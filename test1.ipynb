{
 "metadata": {
  "name": ""
 },
 "nbformat": 3,
 "nbformat_minor": 0,
 "worksheets": [
  {
   "cells": [
    {
     "cell_type": "code",
     "collapsed": false,
     "input": [
      "import music21\n",
      "score = music21.converter.parse('Jos-20131020-201340/Jos0301a-Missa_Ave_maris_stella-Kyrie.krn')"
     ],
     "language": "python",
     "metadata": {},
     "outputs": []
    },
    {
     "cell_type": "code",
     "collapsed": false,
     "input": [
      "note1 = score.parts[0].measure(2)[0]\n",
      "print note1.octave\n",
      "print note1.name\n",
      "print note1.duration.quarterLength\n",
      "print note1.ps"
     ],
     "language": "python",
     "metadata": {},
     "outputs": []
    },
    {
     "cell_type": "code",
     "collapsed": false,
     "input": [
      "note2 = music21.note.Rest()\n",
      "note2.ps"
     ],
     "language": "python",
     "metadata": {},
     "outputs": []
    },
    {
     "cell_type": "code",
     "collapsed": false,
     "input": [
      "all_ps = []\n",
      "for part in score.parts:\n",
      "    for meas in part:\n",
      "        print part.show('text')\n",
      "        for note in meas:\n",
      "            if note.isNote:\n",
      "                all_ps.append(note.ps)\n",
      "            elif note.isRest:\n",
      "                all_ps.append(0)\n"
     ],
     "language": "python",
     "metadata": {},
     "outputs": []
    },
    {
     "cell_type": "code",
     "collapsed": false,
     "input": [
      "score1 = music21.converter.parse('Jos_all/Jos0701a-Missa_Allez_regretz_I-Kyrie.krn')"
     ],
     "language": "python",
     "metadata": {},
     "outputs": []
    },
    {
     "cell_type": "code",
     "collapsed": false,
     "input": [
      "score1.parts[2].measures(0,4).show('text')"
     ],
     "language": "python",
     "metadata": {},
     "outputs": [
      {
       "output_type": "stream",
       "stream": "stdout",
       "text": [
        "{0.0} <music21.stream.Measure 1 offset=0.0>\n",
        "    {0.0} <music21.instrument.Instrument Voice>\n",
        "    {0.0} <music21.clef.Treble8vbClef>\n",
        "    {0.0} <music21.key.KeySignature of 1 flat>\n",
        "    {0.0} <music21.meter.TimeSignature 2/1>\n",
        "    {0.0} <music21.note.Note F>\n",
        "    {6.0} <music21.note.Note G>\n",
        "    {8.0} <music21.bar.Barline style=regular>\n",
        "{8.0} <music21.stream.Measure 2 offset=8.0>\n",
        "    {0.0} <music21.note.Note A>\n",
        "    {1.0} <music21.note.Note F>\n",
        "    {2.0} <music21.note.Note C>\n",
        "    {6.0} <music21.note.Note B->\n",
        "    {8.0} <music21.bar.Barline style=regular>\n",
        "{16.0} <music21.stream.Measure 3 offset=16.0>\n",
        "    {0.0} <music21.note.Note C>\n",
        "    {2.0} <music21.note.Note C>\n",
        "    {6.0} <music21.note.Note B->\n",
        "    {7.0} <music21.note.Note A>\n",
        "    {8.0} <music21.bar.Barline style=regular>\n",
        "{24.0} <music21.stream.Measure 4 offset=24.0>\n",
        "    {0.0} <music21.note.Note G>\n",
        "    {2.0} <music21.note.Note B->\n",
        "    {6.0} <music21.note.Note A>\n",
        "    {8.0} <music21.bar.Barline style=regular>\n"
       ]
      }
     ],
     "prompt_number": 46
    },
    {
     "cell_type": "code",
     "collapsed": false,
     "input": [
      "\n"
     ],
     "language": "python",
     "metadata": {},
     "outputs": []
    }
   ],
   "metadata": {}
  }
 ]
}